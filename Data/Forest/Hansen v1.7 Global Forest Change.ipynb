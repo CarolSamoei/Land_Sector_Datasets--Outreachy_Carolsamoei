{
 "cells": [
  {
   "cell_type": "markdown",
   "metadata": {},
   "source": [
    "## Title: Hansen v1.7 Global Forest Change\n",
    "Description: Results from time-series analysis of Landsat images in characterizing global forest extent and change from 2000 through 2019. For additional information about these results, please see the associated journal article (Hansen et al., Science 2013).\n",
    "\n",
    "### FLINT\n",
    "This dataset is suitable for use in FLINT in its native form. Code is provided below to bulk download tiles for global coverage, or you can head to the original source to download select tiles\n",
    "\n",
    "### Original source:\n",
    "http://earthenginepartners.appspot.com/science-2013-global-forest/download_v1.7.html\n",
    "\n",
    "### Licence:\n",
    "This work is licensed under a Creative Commons Attribution 4.0 International License. You are free to copy and redistribute the material in any medium or format, and to transform and build upon the material for any purpose, even commercially. You must give appropriate credit, provide a link to the license, and indicate if changes were made.\n",
    "\n",
    "### Citation\n",
    "Use the following credit when these data are displayed: \"Source: Hansen/UMD/Google/USGS/NASA\" \n",
    "\n",
    "Use the following credit when these data are cited: Hansen, M. C., P. V. Potapov, R. Moore, M. Hancher, S. A. Turubanova, A. Tyukavina, D. Thau, S. V. Stehman, S. J. Goetz, T. R. Loveland, A. Kommareddy, A. Egorov, L. Chini, C. O. Justice, and J. R. G. Townshend. 2013. “High-Resolution Global Maps of 21st-Century Forest Cover Change.” Science 342 (15 November): 850–53. Data available on-line from: http://earthenginepartners.appspot.com/science-2013-global-forest.\n",
    "\n",
    "### Format:\n",
    "global coverage, tiled 10x10 degrees tiles, geotiff (.tif), cell size 0.00025 degree, resolution 40000 x 40000 Pixels, cordinate system EPSG: 4326 WGS84\n",
    "\n",
    "### Metadata: \n",
    "Full metadata can be viewed here http://earthenginepartners.appspot.com/science-2013-global-forest/download_v1.7.html\n",
    "\n",
    "Dataset names: treecover2000, loss, gain, datamask, first and last\n",
    "\n",
    "<b>Tree canopy cover for year 2000</b> (treecover2000) - Tree cover in the year 2000, defined as canopy closure for all vegetation taller than 5m in height. Encoded as a percentage per output grid cell, in the range 0–100. \n",
    "\n",
    "<b>Global forest cover gain 2000–2012</b> (gain) Forest gain during the period 2000–2012, defined as the inverse of loss, or a non-forest to forest change entirely within the study period. Encoded as either 1 (gain) or 0 (no gain). \n",
    "\n",
    "<b>Year of gross forest cover loss event</b> (lossyear) Forest loss during the period 2000–2019, defined as a stand-replacement disturbance, or a change from a forest to non-forest state. Encoded as either 0 (no loss) or else a value in the range 1–17, representing loss detected primarily in the year 2001–2019, respectively. \n",
    "\n",
    "<b>Data mask</b> (datamask) Three values representing areas of no data (0), mapped land surface (1), and permanent water bodies (2).\n",
    "\n",
    "<b>Circa year 2000 Landsat 7 cloud-free image composite</b> (first) Reference multispectral imagery from the first available year, typically 2000. If no cloud-free observations were available for year 2000, imagery was taken from the closest year with cloud-free data, within the range 1999–2012. \n",
    "\n",
    "<b>Circa year 2019 Landsat cloud-free image composite</b> (last) Reference multispectral imagery from the last available year, typically 2019. If no cloud-free observations were available for year 2019, imagery was taken from the closest year with cloud-free data, within the range 2010–2015.\n",
    "\n",
    "### Notes\n",
    "tiles may contain no data if over the ocean, please see see datamask to mask waterbodies etc. Updates are intended so please check back at the original source(http://earthenginepartners.appspot.com/science-2013-global-forest/download_v1.7.html).\n",
    "\n"
   ]
  },
  {
   "cell_type": "code",
   "execution_count": null,
   "metadata": {},
   "outputs": [],
   "source": [
    "#Bulk download tiles\n",
    "#Text URLS treecover2000.txt, loss.txt, gain.txt, datamask.txt, first.txt, last.txt\n",
    "#Python 3\n",
    "import urllib.request\n",
    "import os.path\n",
    "\n",
    "#change this path to txt file URLS treecover2000.txt, loss.txt, gain.txt, datamask.txt, first.txt, last.txt from http://earthenginepartners.appspot.com/science-2013-global-forest/download_v1.7.html\n",
    "enterpath = r\"C:/Users/LennyJenny/Documents/ArcGIS/world/UNFCCC/downloads/hansen/gain.txt\"\n",
    "\n",
    "#text file containing urls for download downloaded from https://earthenginepartners.appspot.com/science-2013-global-forest/download_v1.7.html (see download instructions)\n",
    "links = open(enterpath, 'r')\n",
    "\n",
    "#directory to save tifs into (insert your own folder path)\n",
    "folder = \"C:/Users/LennyJenny/Documents/ArcGIS/world/UNFCCC/downloads/hansen/gain\"\n",
    "\n",
    "#open and download links in bulk\n",
    "for link in links:\n",
    "    link = link.strip()\n",
    "    name = link.rsplit('/', 1)[-1]\n",
    "    filename = os.path.join(folder, name)\n",
    "    if not os.path.isfile(filename):\n",
    "        print('Downloading: '+ filename)\n",
    "    try:\n",
    "        urllib.request.urlretrieve(link, filename)\n",
    "        \n",
    "    except Exception as inst:\n",
    "        print(inst)\n",
    "        print('  Encountered unknown error. Continuing.')"
   ]
  }
 ],
 "metadata": {
  "kernelspec": {
   "display_name": "Python 3",
   "language": "python",
   "name": "python3"
  },
  "language_info": {
   "codemirror_mode": {
    "name": "ipython",
    "version": 3
   },
   "file_extension": ".py",
   "mimetype": "text/x-python",
   "name": "python",
   "nbconvert_exporter": "python",
   "pygments_lexer": "ipython3",
   "version": "3.8.5"
  }
 },
 "nbformat": 4,
 "nbformat_minor": 4
}
